{
 "cells": [
  {
   "cell_type": "markdown",
   "metadata": {},
   "source": [
    "# Advanced Statistical Inference -- Bayesian inference for a coin tossing experiment\n"
   ]
  },
  {
   "cell_type": "markdown",
   "metadata": {},
   "source": [
    "The beta probability density function is defined as:\n",
    "\n",
    "$$\n",
    "p(r \\vert \\alpha, \\beta) = \\dfrac{\\Gamma(\\alpha + \\beta)}{\\Gamma(\\alpha)\\Gamma(\\beta)}r^{\\alpha-1}(1-r)^{\\beta-1} \n",
    "$$\n",
    "\n",
    "where $0 \\le r \\le 1$ and $\\alpha, \\beta> 0$.\n",
    "You can use the `plot_beta()` function.\n"
   ]
  },
  {
   "cell_type": "code",
   "execution_count": null,
   "metadata": {},
   "outputs": [],
   "source": [
    "from scipy.stats import beta\n",
    "from scipy.special import gamma as gamma_func\n",
    "from scipy.misc import comb"
   ]
  },
  {
   "cell_type": "code",
   "execution_count": null,
   "metadata": {},
   "outputs": [],
   "source": [
    "def plot_beta(a,b, plot=False):\n",
    "    plt.figure(figsize=(15,5))\n",
    "    x = np.linspace(0, 1, 1000)\n",
    "    plt.plot(x, beta.pdf(x, a, b),'r')\n",
    "    plt.title(\"beta pdf: alpha=\" + str(a) + \" beta=\" + str(b))\n",
    "    plt.show()"
   ]
  },
  {
   "cell_type": "code",
   "execution_count": null,
   "metadata": {},
   "outputs": [],
   "source": [
    "plot_beta(a=2, b=2)"
   ]
  },
  {
   "cell_type": "markdown",
   "metadata": {},
   "source": [
    "**Exercise:**\n",
    "$r$ is the probability of some hypothetical coin landing heads. The beta distribution is a suitable prior distribution for $r$. Choose 2 different pairs of values $\\alpha$ and $\\beta$ and plot the corresponding densities. For both cases, describe the possible beliefs they encode about the coin. Note, there is no ‘right’ answer here, just think about how likely different values of $r$ are in your densities and how this reflects on the coin.\n"
   ]
  },
  {
   "cell_type": "code",
   "execution_count": null,
   "metadata": {},
   "outputs": [],
   "source": [
    "plot_beta(a=1, b=1)"
   ]
  },
  {
   "cell_type": "markdown",
   "metadata": {},
   "source": [
    "Observe how the distribution changes for different values of 'a' and 'b', and comment on your results.\n"
   ]
  },
  {
   "cell_type": "code",
   "execution_count": null,
   "metadata": {},
   "outputs": [],
   "source": [
    "plot_beta( ... ) # TO COMPLETE"
   ]
  },
  {
   "cell_type": "code",
   "execution_count": null,
   "metadata": {},
   "outputs": [],
   "source": []
  },
  {
   "cell_type": "markdown",
   "metadata": {},
   "source": [
    "**Exercise:**\n",
    "`coin1()` and `coin2()` are two ‘coins’ that you can use. In either case, calling the function with an argument N tosses the coin N times and returns the number of heads. Pick either one and using the equations we derived in the class, along with any choice for $\\alpha$ and $\\beta$, plot the posterior density for $r$ after $N = 1, 5, 10, 100$ tosses. Use `plot_beta()` to do the plotting. You can put them all on one plot or all on separate plots. Explain what you see.\n"
   ]
  },
  {
   "cell_type": "code",
   "execution_count": null,
   "metadata": {},
   "outputs": [],
   "source": [
    "def coin1(N):\n",
    "    return sum(np.random.random(N)<=0.3)\n",
    "def coin2(N):\n",
    "    return sum(np.random.random(N)<=0.8)"
   ]
  },
  {
   "cell_type": "code",
   "execution_count": null,
   "metadata": {},
   "outputs": [],
   "source": [
    "yN = [coin2(N) for N in range(1000)]\n",
    "plt.figure(figsize=(10,5))\n",
    "plt.plot(list(range(1000)), yN)\n",
    "plt.xlabel(\"Number of tosses\")\n",
    "plt.ylabel(\"Number of heads\")\n",
    "plt.title(\"coin2\")\n",
    "plt.grid()\n",
    "plt.show()"
   ]
  },
  {
   "cell_type": "markdown",
   "metadata": {},
   "source": [
    "So, `coin2()` is biased to generate more heads (roughly 8 out of 10)."
   ]
  },
  {
   "cell_type": "code",
   "execution_count": null,
   "metadata": {},
   "outputs": [],
   "source": [
    "N = 1000\n",
    "\n",
    "yN1, yN2 = coin1(N), coin2(N)\n",
    "\n",
    "# Assume coins are fair\n",
    "\n",
    "alpha1 = 50\n",
    "beta1 = 50\n",
    "\n",
    "# Compute the posterior 'gamma' and 'delta' parameters\n",
    "gamma1, gamma2 = ... # TO COMPLETE\n",
    "delta1, delta2 = ... # TO COMPLETE\n",
    "\n",
    "plt.figure(figsize=(15,5))\n",
    "x = np.linspace(0, 1, 1000)\n",
    "plt.plot(x, beta.pdf(x, alpha1, beta1),'r', label='prior')\n",
    "plt.plot(x, beta.pdf(x, gamma1, delta1),'b', label='posterior coin1')\n",
    "plt.plot(x, beta.pdf(x, gamma2, delta2),'g', label='posterior coin2')\n",
    "plt.legend()\n",
    "plt.grid()\n",
    "plt.show()"
   ]
  },
  {
   "cell_type": "code",
   "execution_count": null,
   "metadata": {},
   "outputs": [],
   "source": []
  },
  {
   "cell_type": "code",
   "execution_count": null,
   "metadata": {},
   "outputs": [],
   "source": [
    "N = 1000\n",
    "\n",
    "yN1, yN2 = coin1(N), coin2(N)\n",
    "\n",
    "# Assume coins are biased\n",
    "\n",
    "alpha1 = 50\n",
    "beta1 = 10\n",
    "\n",
    "# Compute the posterior 'gamma' and 'delta' parameters\n",
    "\n",
    "gamma1, gamma2 = ... # TO COMPLETE\n",
    "delta1, delta2 = ... # TO COMPLETE\n",
    "\n",
    "\n",
    "plt.figure(figsize=(15,5))\n",
    "x = np.linspace(0, 1, 1000)\n",
    "plt.plot(x, beta.pdf(x, alpha1, beta1),'r', label='prior')\n",
    "plt.plot(x, beta.pdf(x, gamma1, delta1),'b', label='posterior coin1')\n",
    "plt.plot(x, beta.pdf(x, gamma2, delta2),'g', label='posterior coin2')\n",
    "plt.legend()\n",
    "plt.grid()\n",
    "plt.show()"
   ]
  },
  {
   "cell_type": "code",
   "execution_count": null,
   "metadata": {},
   "outputs": [],
   "source": []
  },
  {
   "cell_type": "code",
   "execution_count": null,
   "metadata": {},
   "outputs": [],
   "source": [
    "N = [1, 5, 10, 100, 1000]\n",
    "cs = ['b', 'c', 'g', 'y', 'r']\n",
    "a = 2\n",
    "b = 2\n",
    "x = np.linspace(0, 1, 100)\n",
    "plt.figure(figsize=(15,8))\n",
    "for i,n in enumerate(N):\n",
    "    # Compute the posterior distribution for coin2 given 'n' tosses \n",
    "    yN1 = ... # TO COMPLETE\n",
    "    gamma = ... # TO COMPLETE\n",
    "    delta = ... # TO COMPLETE\n",
    "    plt.plot(x, beta.pdf( ... ),color=cs[i], label=\"N=\"+str(n)) # TO COMPLETE\n",
    "    \n",
    "plt.plot(x, beta.pdf( ... ),'k+', label='prior') # TO COMPLETE\n",
    "plt.title(\"Coin2\")\n",
    "plt.legend()\n",
    "plt.grid()\n",
    "plt.show()"
   ]
  },
  {
   "cell_type": "code",
   "execution_count": null,
   "metadata": {},
   "outputs": [],
   "source": []
  },
  {
   "cell_type": "markdown",
   "metadata": {},
   "source": [
    "**Exercise:**\n",
    "Repeat the previous exercise with a different set of prior parameter values ($\\alpha$ and $\\beta$). What\n",
    "do you notice?\n"
   ]
  },
  {
   "cell_type": "code",
   "execution_count": null,
   "metadata": {},
   "outputs": [],
   "source": [
    "N = [1, 5, 10, 100, 1000]\n",
    "cs = ['b', 'c', 'g', 'y', 'r']\n",
    "a = 1\n",
    "b = 5\n",
    "\n",
    "\"\"\"\n",
    "TO COMPLETE\n",
    "\"\"\""
   ]
  },
  {
   "cell_type": "code",
   "execution_count": null,
   "metadata": {},
   "outputs": [],
   "source": []
  },
  {
   "cell_type": "markdown",
   "metadata": {},
   "source": [
    "## Making predictions\n",
    "\n",
    "`fairground()` is a coin game – you pay £1 to play. The stall owner tosses a coin ten times. If there are 6 or fewer heads, you win £2. The function returns 1 if you win and 0 if you lose.\n",
    "\n",
    "**Exercise:** The probability that you win could be approximated by playing the game lots of times and computing the proportion of times you do win! By embedding fairground.m in a loop, approximate the probability that you will win in this way.\n"
   ]
  },
  {
   "cell_type": "code",
   "execution_count": null,
   "metadata": {},
   "outputs": [],
   "source": [
    "def fairground():\n",
    "    return sum(np.random.random(10)<0.8) <= 6 # coin2"
   ]
  },
  {
   "cell_type": "code",
   "execution_count": null,
   "metadata": {},
   "outputs": [],
   "source": [
    "print(\"Approx Winning Probability:\", sum([fairground() for i in range(10000)])/10000)"
   ]
  },
  {
   "cell_type": "markdown",
   "metadata": {},
   "source": [
    "\n",
    "**Exercise:**  In the lectures, we derived an expression for the probability of getting $y_{new}$ heads in N tosses having observed $y_N$ heads in N tosses by taking an expectation with respect to the posterior.\n",
    "Choose $\\alpha$ and $\\beta$ as you please (as long as you can justify your choice – do you know anything about this coin?). Use `coin2()` to generate $y_N$ for $N = 10$. Compute the posterior parameters. By using them, the expression from the lectures and the following identity, compute the probability that you will win given the coin tosses you have observed (i.e., you just need to add together a series of the expressions you derived in the lecture). \n",
    "\n",
    "Note that this quantity depends on the prior and the particular $y_N$ you get from `coin2()` and therefore could be quite different from the quantity computed in the previous question.\n",
    "$$\n",
    "P(y_{new}\\le 6 \\vert y_N, \\alpha, \\beta) = \\sum_{a=0}^{6} P(y_{new}=a \\vert y_N, \\alpha, \\beta)\n",
    "$$\n"
   ]
  },
  {
   "cell_type": "code",
   "execution_count": null,
   "metadata": {},
   "outputs": [],
   "source": [
    "Nlook = 50 # the higher this number, the lower our winning probability\n",
    "yN = coin2(Nlook)\n",
    "\n",
    "# Assume the coin is unbiased\n",
    "\n",
    "alpha1 = ... # TO COMPLETE\n",
    "beta1 = ... # TO COMPLETE\n",
    "gamma1 = ... # TO COMPLETE\n",
    "delta1 = ... # TO COMPLETE\n",
    "\n",
    "N = 10\n",
    "p_ynew_se_six = 0 # smaller or equal to 6\n",
    "\n",
    "for ynew in range(7):\n",
    "    # Compute probability using formula given in slides\n",
    "    \n",
    "    \"\"\"\n",
    "    TO COMPLETE\n",
    "    \"\"\"\n",
    "\n",
    "print(p_ynew_se_six)"
   ]
  },
  {
   "cell_type": "code",
   "execution_count": null,
   "metadata": {},
   "outputs": [],
   "source": []
  },
  {
   "cell_type": "code",
   "execution_count": null,
   "metadata": {},
   "outputs": [],
   "source": [
    "Nlook = 50 # the higher this number, the lower the more accurate our winning probability\n",
    "yN = coin2(Nlook)\n",
    "\n",
    "# Assume the coin is biased\n",
    "\n",
    "alpha1 = ... # TO COMPLETE\n",
    "beta1 = ... # TO COMPLETE\n",
    "gamma1 = ... # TO COMPLETE\n",
    "delta1 = ... # TO COMPLETE\n",
    "\n",
    "N = 10;\n",
    "p_ynew_se_six = 0 # smaller or equal to 6\n",
    "\n",
    "for ynew in range(7):\n",
    "    # Compute probability using formula given in slides\n",
    "    \n",
    "    \"\"\"\n",
    "    TO COMPLETE\n",
    "    \"\"\"\n",
    "\n",
    "print(p_ynew_se_six)"
   ]
  },
  {
   "cell_type": "code",
   "execution_count": null,
   "metadata": {},
   "outputs": [],
   "source": []
  }
 ],
 "metadata": {
  "kernelspec": {
   "display_name": "Python 3 (ipykernel)",
   "language": "python",
   "name": "python3"
  },
  "language_info": {
   "codemirror_mode": {
    "name": "ipython",
    "version": 3
   },
   "file_extension": ".py",
   "mimetype": "text/x-python",
   "name": "python",
   "nbconvert_exporter": "python",
   "pygments_lexer": "ipython3",
   "version": "3.9.7"
  },
  "pycharm": {
   "stem_cell": {
    "cell_type": "raw",
    "metadata": {
     "collapsed": false
    },
    "source": []
   }
  }
 },
 "nbformat": 4,
 "nbformat_minor": 4
}
