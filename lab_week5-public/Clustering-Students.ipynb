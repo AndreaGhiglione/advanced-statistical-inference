{
 "cells": [
  {
   "cell_type": "markdown",
   "metadata": {},
   "source": [
    "<h1 style=\"text-align:center\">Advanced Statistical Inference</h1>\n",
    "<h1 style=\"text-align:center\">Clustering</h1>"
   ]
  },
  {
   "cell_type": "markdown",
   "metadata": {},
   "source": [
    "## 1. Aims\n",
    "<div class=\"alert alert-info\"> \n",
    "To implement $k$-means and use it to cluster some data.\n",
    "</div>"
   ]
  },
  {
   "cell_type": "code",
   "execution_count": null,
   "metadata": {},
   "outputs": [],
   "source": [
    "import scipy.io\n",
    "import numpy as np\n",
    "mat = scipy.io.loadmat('kmeansdata.mat')"
   ]
  },
  {
   "cell_type": "code",
   "execution_count": null,
   "metadata": {},
   "outputs": [],
   "source": [
    "X = mat['X']\n",
    "print(X.shape)"
   ]
  },
  {
   "cell_type": "markdown",
   "metadata": {},
   "source": [
    "## 2. Implement the $k$-means algorithm covered in the lecture (not the kernelised version)\n",
    "\n",
    "<div class=\"alert alert-info\">\n",
    "\n",
    "Hints:\n",
    "<br>\n",
    "<ul> \n",
    "<li> Your code needs to alternate between assigning points to the cluster that they’re closest to and recalculating the means by taking the average of these points.\n",
    "<li> You may need to add something to your code to deal with the problem of no points being assigned to a particular cluster – set the mean randomly.\n",
    "<li> You’ll find it easiest to maintain a variable that indicates which cluster each point is assigned to. Be careful not to assign a point to more than one cluster.\n",
    "<li> Your algorithm should converge in fewer than 20 steps (or thereabouts). If it takes 100, something isn’t right!\n",
    "</ul>\n",
    "\n",
    "</div>"
   ]
  },
  {
   "cell_type": "code",
   "execution_count": null,
   "metadata": {},
   "outputs": [],
   "source": [
    "'''\n",
    "\n",
    "DEFINE HELPER FUNCTIONS\n",
    "\n",
    "'''"
   ]
  },
  {
   "cell_type": "code",
   "execution_count": null,
   "metadata": {},
   "outputs": [],
   "source": [
    "def kmeans(data, k=2, centroids=None):\n",
    "   \n",
    "    '''\n",
    "    \n",
    "    TO COMPLETE\n",
    "    \n",
    "    '''"
   ]
  },
  {
   "cell_type": "code",
   "execution_count": null,
   "metadata": {},
   "outputs": [],
   "source": [
    "'''\n",
    "\n",
    "PLOT RESULTS\n",
    "\n",
    "'''"
   ]
  },
  {
   "cell_type": "markdown",
   "metadata": {},
   "source": [
    "## 3. Run your algorithm for $k$ = 2, 3, 4 and 5. \n",
    "\n",
    "<div class=\"alert alert-info\">\n",
    "In each case, plot the data using a different symbol for each cluster.\n",
    "</fiv>"
   ]
  },
  {
   "cell_type": "code",
   "execution_count": null,
   "metadata": {
    "scrolled": false
   },
   "outputs": [],
   "source": []
  }
 ],
 "metadata": {
  "kernelspec": {
   "display_name": "Python 3",
   "language": "python",
   "name": "python3"
  },
  "language_info": {
   "codemirror_mode": {
    "name": "ipython",
    "version": 3
   },
   "file_extension": ".py",
   "mimetype": "text/x-python",
   "name": "python",
   "nbconvert_exporter": "python",
   "pygments_lexer": "ipython3",
   "version": "3.5.0"
  }
 },
 "nbformat": 4,
 "nbformat_minor": 2
}
